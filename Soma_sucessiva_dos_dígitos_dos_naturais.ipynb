{
  "nbformat": 4,
  "nbformat_minor": 0,
  "metadata": {
    "colab": {
      "name": "Soma sucessiva dos dígitos dos naturais.ipynb",
      "provenance": [],
      "collapsed_sections": [],
      "authorship_tag": "ABX9TyNTkC8CnCShvsWrQd8Wt3jM",
      "include_colab_link": true
    },
    "kernelspec": {
      "name": "python3",
      "display_name": "Python 3"
    },
    "language_info": {
      "name": "python"
    }
  },
  "cells": [
    {
      "cell_type": "markdown",
      "metadata": {
        "id": "view-in-github",
        "colab_type": "text"
      },
      "source": [
        "<a href=\"https://colab.research.google.com/github/leonichel/Summer_function/blob/main/Soma_sucessiva_dos_d%C3%ADgitos_dos_naturais.ipynb\" target=\"_parent\"><img src=\"https://colab.research.google.com/assets/colab-badge.svg\" alt=\"Open In Colab\"/></a>"
      ]
    },
    {
      "cell_type": "markdown",
      "metadata": {
        "id": "Mp2pnPinr6Dk"
      },
      "source": [
        "# Soma sucessiva dos dígitos dos naturais"
      ]
    },
    {
      "cell_type": "markdown",
      "metadata": {
        "id": "2wp57bH-vCFA"
      },
      "source": [
        "## Problemática\n",
        "\n",
        "Dado um número n, tal que n ∈ N = [1, 2, 3, 4, ...], a soma sucessiva de seus dígitos até que o resultado seja um valor de dígito único, é tida como \"summer(n)\"\n",
        "\n",
        "Exs.:\n",
        "* summer(5) = 5;\n",
        "* summer(10) = 1, pois 1 + 0 = 1;\n",
        "* summer(18) = 9, pois 1 + 8 = 9;\n",
        "* summer(99) = 9, pois 9 + 9 = 18 => summer(18) = 1 + 8 = 9;\n",
        "\n",
        "Dessa forma, a função \"summer\" pode assumir os valores 1 <= x <= 9, tal que x ∈ N. Mas então, ao realizarmos a função \"summer\" para um sub-conjunto dos naturais, qual a distribuição dos resultados? Quantos números assumem o valor \"1\", e quantos o \"3\", por exemplo?"
      ]
    },
    {
      "cell_type": "markdown",
      "metadata": {
        "id": "5G0fMSPIvChc"
      },
      "source": [
        "## Solução"
      ]
    },
    {
      "cell_type": "markdown",
      "metadata": {
        "id": "to0emS9evE01"
      },
      "source": [
        "### Bibliotecas"
      ]
    },
    {
      "cell_type": "code",
      "metadata": {
        "id": "yfp9Lj7gODJe"
      },
      "source": [
        "import numpy as np\n",
        "import pandas as pd\n",
        "import seaborn as sns"
      ],
      "execution_count": 1,
      "outputs": []
    },
    {
      "cell_type": "markdown",
      "metadata": {
        "id": "jBBmqvDhvKcN"
      },
      "source": [
        "### Funções de cálculo\n",
        "\n",
        "* A função \"digits_sum\" soma os dígitos de um número inteiro;\n",
        "* A função get_x();"
      ]
    },
    {
      "cell_type": "code",
      "metadata": {
        "id": "ycJIf2lKvd4L"
      },
      "source": [
        "digits_sum = lambda n: sum(int(i) for i in str(n))\n",
        "\n",
        "def summer(n): \n",
        "    x = digits_sum(n)\n",
        "    while x > 9:\n",
        "        x = summer(x)\n",
        "    return x"
      ],
      "execution_count": 2,
      "outputs": []
    },
    {
      "cell_type": "markdown",
      "metadata": {
        "id": "w-I0ixz1zR5V"
      },
      "source": [
        "### Definição das séries e detaframe"
      ]
    },
    {
      "cell_type": "code",
      "metadata": {
        "id": "pyLzjRJbOcbY"
      },
      "source": [
        "numbers = np.arange(56, 105, 1)\n",
        "summer_values = [summer(i) for i in numbers]\n",
        "df = pd.DataFrame({'s_values': summer_values}, index=numbers)"
      ],
      "execution_count": 7,
      "outputs": []
    },
    {
      "cell_type": "markdown",
      "metadata": {
        "id": "48VxNFwRzeIJ"
      },
      "source": [
        "### Análises\n",
        "\n",
        "* Exibição;\n",
        "* Descrição;\n",
        "* Contagem;\n",
        "* Plote;"
      ]
    },
    {
      "cell_type": "code",
      "metadata": {
        "colab": {
          "base_uri": "https://localhost:8080/",
          "height": 343
        },
        "id": "H5UgoSU4y1Rd",
        "outputId": "1ca609b8-8213-42b6-a75f-602cf22ca001"
      },
      "source": [
        "df.tail(10)"
      ],
      "execution_count": 12,
      "outputs": [
        {
          "output_type": "execute_result",
          "data": {
            "text/html": [
              "<div>\n",
              "<style scoped>\n",
              "    .dataframe tbody tr th:only-of-type {\n",
              "        vertical-align: middle;\n",
              "    }\n",
              "\n",
              "    .dataframe tbody tr th {\n",
              "        vertical-align: top;\n",
              "    }\n",
              "\n",
              "    .dataframe thead th {\n",
              "        text-align: right;\n",
              "    }\n",
              "</style>\n",
              "<table border=\"1\" class=\"dataframe\">\n",
              "  <thead>\n",
              "    <tr style=\"text-align: right;\">\n",
              "      <th></th>\n",
              "      <th>s_values</th>\n",
              "    </tr>\n",
              "  </thead>\n",
              "  <tbody>\n",
              "    <tr>\n",
              "      <th>95</th>\n",
              "      <td>5</td>\n",
              "    </tr>\n",
              "    <tr>\n",
              "      <th>96</th>\n",
              "      <td>6</td>\n",
              "    </tr>\n",
              "    <tr>\n",
              "      <th>97</th>\n",
              "      <td>7</td>\n",
              "    </tr>\n",
              "    <tr>\n",
              "      <th>98</th>\n",
              "      <td>8</td>\n",
              "    </tr>\n",
              "    <tr>\n",
              "      <th>99</th>\n",
              "      <td>9</td>\n",
              "    </tr>\n",
              "    <tr>\n",
              "      <th>100</th>\n",
              "      <td>1</td>\n",
              "    </tr>\n",
              "    <tr>\n",
              "      <th>101</th>\n",
              "      <td>2</td>\n",
              "    </tr>\n",
              "    <tr>\n",
              "      <th>102</th>\n",
              "      <td>3</td>\n",
              "    </tr>\n",
              "    <tr>\n",
              "      <th>103</th>\n",
              "      <td>4</td>\n",
              "    </tr>\n",
              "    <tr>\n",
              "      <th>104</th>\n",
              "      <td>5</td>\n",
              "    </tr>\n",
              "  </tbody>\n",
              "</table>\n",
              "</div>"
            ],
            "text/plain": [
              "     s_values\n",
              "95          5\n",
              "96          6\n",
              "97          7\n",
              "98          8\n",
              "99          9\n",
              "100         1\n",
              "101         2\n",
              "102         3\n",
              "103         4\n",
              "104         5"
            ]
          },
          "metadata": {
            "tags": []
          },
          "execution_count": 12
        }
      ]
    },
    {
      "cell_type": "code",
      "metadata": {
        "colab": {
          "base_uri": "https://localhost:8080/",
          "height": 284
        },
        "id": "SEUzG9rWVVH2",
        "outputId": "3b8c370f-0e0c-4f38-e0df-b19e5f46a15c"
      },
      "source": [
        "df.describe()"
      ],
      "execution_count": 8,
      "outputs": [
        {
          "output_type": "execute_result",
          "data": {
            "text/html": [
              "<div>\n",
              "<style scoped>\n",
              "    .dataframe tbody tr th:only-of-type {\n",
              "        vertical-align: middle;\n",
              "    }\n",
              "\n",
              "    .dataframe tbody tr th {\n",
              "        vertical-align: top;\n",
              "    }\n",
              "\n",
              "    .dataframe thead th {\n",
              "        text-align: right;\n",
              "    }\n",
              "</style>\n",
              "<table border=\"1\" class=\"dataframe\">\n",
              "  <thead>\n",
              "    <tr style=\"text-align: right;\">\n",
              "      <th></th>\n",
              "      <th>s_values</th>\n",
              "    </tr>\n",
              "  </thead>\n",
              "  <tbody>\n",
              "    <tr>\n",
              "      <th>count</th>\n",
              "      <td>49.000000</td>\n",
              "    </tr>\n",
              "    <tr>\n",
              "      <th>mean</th>\n",
              "      <td>4.877551</td>\n",
              "    </tr>\n",
              "    <tr>\n",
              "      <th>std</th>\n",
              "      <td>2.554674</td>\n",
              "    </tr>\n",
              "    <tr>\n",
              "      <th>min</th>\n",
              "      <td>1.000000</td>\n",
              "    </tr>\n",
              "    <tr>\n",
              "      <th>25%</th>\n",
              "      <td>3.000000</td>\n",
              "    </tr>\n",
              "    <tr>\n",
              "      <th>50%</th>\n",
              "      <td>5.000000</td>\n",
              "    </tr>\n",
              "    <tr>\n",
              "      <th>75%</th>\n",
              "      <td>7.000000</td>\n",
              "    </tr>\n",
              "    <tr>\n",
              "      <th>max</th>\n",
              "      <td>9.000000</td>\n",
              "    </tr>\n",
              "  </tbody>\n",
              "</table>\n",
              "</div>"
            ],
            "text/plain": [
              "        s_values\n",
              "count  49.000000\n",
              "mean    4.877551\n",
              "std     2.554674\n",
              "min     1.000000\n",
              "25%     3.000000\n",
              "50%     5.000000\n",
              "75%     7.000000\n",
              "max     9.000000"
            ]
          },
          "metadata": {
            "tags": []
          },
          "execution_count": 8
        }
      ]
    },
    {
      "cell_type": "code",
      "metadata": {
        "colab": {
          "base_uri": "https://localhost:8080/"
        },
        "id": "GAWD2gZyZivO",
        "outputId": "c641eec8-546a-4572-c226-439a68842528"
      },
      "source": [
        "df.value_counts()"
      ],
      "execution_count": 9,
      "outputs": [
        {
          "output_type": "execute_result",
          "data": {
            "text/plain": [
              "s_values\n",
              "5           6\n",
              "4           6\n",
              "3           6\n",
              "2           6\n",
              "9           5\n",
              "8           5\n",
              "7           5\n",
              "6           5\n",
              "1           5\n",
              "dtype: int64"
            ]
          },
          "metadata": {
            "tags": []
          },
          "execution_count": 9
        }
      ]
    },
    {
      "cell_type": "code",
      "metadata": {
        "colab": {
          "base_uri": "https://localhost:8080/",
          "height": 265
        },
        "id": "AtoHfrPNxGLu",
        "outputId": "f33d74d2-6631-4a91-bbdb-b498cb5be4f4"
      },
      "source": [
        "sns.lineplot(data=df, x=df.index, y=df.s_values);"
      ],
      "execution_count": 10,
      "outputs": [
        {
          "output_type": "display_data",
          "data": {
            "image/png": "[encoded data removed]",
            "text/plain": [
              "<Figure size 432x288 with 1 Axes>"
            ]
          },
          "metadata": {
            "tags": [],
            "needs_background": "light"
          }
        }
      ]
    },
    {
      "cell_type": "markdown",
      "metadata": {
        "id": "c57Ev0z40ABB"
      },
      "source": [
        "## Conclusão\n",
        "\n",
        "* De forma analítica, a função \"summer\" é periódica, com frequência de 1/9;\n",
        "* Com isso, podemos redefinir a função: \n",
        "\n",
        "summer(x) = x % 9, onde \"%\" retorna o resto da divisão de \"x\" por 9;"
      ]
    }
  ]
}